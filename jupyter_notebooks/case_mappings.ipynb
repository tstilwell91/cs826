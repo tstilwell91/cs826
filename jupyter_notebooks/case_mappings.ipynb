{
 "cells": [
  {
   "cell_type": "code",
   "execution_count": 1,
   "id": "75ea13be-38bc-437d-855e-50e6f6ae866a",
   "metadata": {},
   "outputs": [],
   "source": [
    "import json\n",
    "import pandas as pd\n",
    "\n",
    "# Load metadata JSON file\n",
    "metadata_path = \"/home/tstil004/phd/multi-omics/metadata.cart.2024-11-11.json\"\n",
    "with open(metadata_path, 'r') as f:\n",
    "    metadata = json.load(f)\n",
    "\n",
    "# Extract case_id and file_name\n",
    "mapping = []\n",
    "for entry in metadata:\n",
    "    case_id = entry.get(\"associated_entities\")[0].get(\"case_id\")\n",
    "    file_name = entry.get(\"file_name\")\n",
    "    mapping.append({\"file_name\": file_name, \"case_id\": case_id})\n",
    "\n",
    "# Create a DataFrame for easier handling\n",
    "mapping_df = pd.DataFrame(mapping)\n",
    "\n",
    "# Save mapping to CSV for later use\n",
    "mapping_df.to_csv(\"/home/tstil004/phd/multi-omics/file_case_mapping2.csv\", index=False)\n"
   ]
  },
  {
   "cell_type": "code",
   "execution_count": null,
   "id": "3cf44d05-7b61-4084-9556-df1e03fbbfae",
   "metadata": {},
   "outputs": [],
   "source": []
  }
 ],
 "metadata": {
  "kernelspec": {
   "display_name": "Python 3 (ipykernel)",
   "language": "python",
   "name": "python3"
  },
  "language_info": {
   "codemirror_mode": {
    "name": "ipython",
    "version": 3
   },
   "file_extension": ".py",
   "mimetype": "text/x-python",
   "name": "python",
   "nbconvert_exporter": "python",
   "pygments_lexer": "ipython3",
   "version": "3.10.13"
  }
 },
 "nbformat": 4,
 "nbformat_minor": 5
}
