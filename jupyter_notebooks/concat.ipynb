{
 "cells": [
  {
   "cell_type": "code",
   "execution_count": 1,
   "id": "bc27c7a5-a48c-446b-b26f-1ccc62ae6aa2",
   "metadata": {},
   "outputs": [
    {
     "name": "stdout",
     "output_type": "stream",
     "text": [
      "Combined features saved to 'combined_features.csv'\n"
     ]
    }
   ],
   "source": [
    "import pandas as pd\n",
    "\n",
    "# Load the RNA-Seq features and WSI features\n",
    "rna_features = pd.read_csv('/home/tstil004/phd/multi-omics/rna-seq/combined_rna_features.csv')\n",
    "wsi_features = pd.read_csv('/home/tstil004/phd/multi-omics/slides/extracted_wsi_features.csv')\n",
    "\n",
    "# Merge the two datasets on 'case_id'\n",
    "combined_features = pd.merge(rna_features, wsi_features, on='case_id', how='inner')\n",
    "\n",
    "# Save the combined features to a new CSV file\n",
    "combined_features.to_csv('combined_features.csv', index=False)\n",
    "\n",
    "print(\"Combined features saved to 'combined_features.csv'\")\n"
   ]
  },
  {
   "cell_type": "code",
   "execution_count": null,
   "id": "4e0919a5-8cd1-4fc8-946f-705bb0147da8",
   "metadata": {},
   "outputs": [],
   "source": []
  }
 ],
 "metadata": {
  "kernelspec": {
   "display_name": "Python 3 (ipykernel)",
   "language": "python",
   "name": "python3"
  },
  "language_info": {
   "codemirror_mode": {
    "name": "ipython",
    "version": 3
   },
   "file_extension": ".py",
   "mimetype": "text/x-python",
   "name": "python",
   "nbconvert_exporter": "python",
   "pygments_lexer": "ipython3",
   "version": "3.10.13"
  }
 },
 "nbformat": 4,
 "nbformat_minor": 5
}
